{
 "cells": [
  {
   "cell_type": "markdown",
   "id": "f1bc7cd5",
   "metadata": {},
   "source": [
    "# Быстрая гистограмма"
   ]
  },
  {
   "cell_type": "code",
   "execution_count": 1,
   "id": "0db4f666",
   "metadata": {},
   "outputs": [],
   "source": [
    "import random\n",
    "import time\n",
    "\n",
    "import matplotlib.pyplot as plt\n",
    "import numpy as np"
   ]
  },
  {
   "cell_type": "markdown",
   "id": "4c5a0773",
   "metadata": {},
   "source": [
    "## Реализация гистограмм"
   ]
  },
  {
   "cell_type": "code",
   "execution_count": 2,
   "id": "b5ab93b7",
   "metadata": {},
   "outputs": [],
   "source": [
    "def my_hist(values, bin_count):\n",
    "    sorted_values = np.sort(values)\n",
    "    bins = np.linspace(sorted_values[0], sorted_values[-1], bin_count + 1)\n",
    "    labels = [(bins[i] + bins[i + 1]) / 2 for i in range(bin_count)]\n",
    "    width = (sorted_values[-1] - sorted_values[0]) / bin_count\n",
    "\n",
    "    value_counts, current_bin = [0] * bin_count, 0\n",
    "    for i in range(len(sorted_values)):\n",
    "        if sorted_values[i] >= bins[current_bin + 1] and current_bin < bin_count - 1:\n",
    "            current_bin += 1\n",
    "        value_counts[current_bin] += 1\n",
    "\n",
    "    plt.bar(labels, value_counts, width=width)\n",
    "    plt.show()"
   ]
  },
  {
   "cell_type": "code",
   "execution_count": 3,
   "id": "aa1abd09",
   "metadata": {},
   "outputs": [],
   "source": [
    "def generate_values(n, p):\n",
    "    return [random.randint(0, p) for _ in range(n)]"
   ]
  },
  {
   "cell_type": "code",
   "execution_count": 4,
   "id": "fbc3072b",
   "metadata": {},
   "outputs": [],
   "source": [
    "def show_plots(n, p, k):\n",
    "    values = generate_values(n, p)\n",
    "    start = time.time()\n",
    "\n",
    "    plt.hist(values, bins=k + 1)\n",
    "    plt.show()\n",
    "    hist_time = time.time()\n",
    "\n",
    "    my_hist(values, k + 1)\n",
    "    my_hist_time = time.time()\n",
    "\n",
    "    print('Default hist execution time: ' + str(hist_time - start))\n",
    "    print('My hist execution time: ' + str(my_hist_time - hist_time))"
   ]
  },
  {
   "cell_type": "code",
   "execution_count": 5,
   "id": "769bcced",
   "metadata": {},
   "outputs": [
    {
     "data": {
      "text/plain": "<Figure size 432x288 with 1 Axes>",
      "image/png": "[encoded data removed]"
     },
     "metadata": {
      "needs_background": "light"
     },
     "output_type": "display_data"
    },
    {
     "data": {
      "text/plain": "<Figure size 432x288 with 1 Axes>",
      "image/png": "[encoded data removed]"
     },
     "metadata": {
      "needs_background": "light"
     },
     "output_type": "display_data"
    },
    {
     "name": "stdout",
     "output_type": "stream",
     "text": [
      "Default hist execution time: 0.1399996280670166\n",
      "My hist execution time: 0.12299871444702148\n"
     ]
    }
   ],
   "source": [
    "show_plots(1000, 100, 26)"
   ]
  }
 ],
 "metadata": {
  "kernelspec": {
   "display_name": "Python 3 (ipykernel)",
   "language": "python",
   "name": "python3"
  },
  "language_info": {
   "codemirror_mode": {
    "name": "ipython",
    "version": 3
   },
   "file_extension": ".py",
   "mimetype": "text/x-python",
   "name": "python",
   "nbconvert_exporter": "python",
   "pygments_lexer": "ipython3",
   "version": "3.9.5"
  }
 },
 "nbformat": 4,
 "nbformat_minor": 5
}